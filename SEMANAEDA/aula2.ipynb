{
 "cells": [
  {
   "cell_type": "markdown",
   "metadata": {},
   "source": [
    "# Estilos musicais\n",
    "- Rock\n",
    "- Hip Hop\n",
    "- Rap\n",
    "- MPB\n",
    "- Reggae\n",
    "- Funk\n",
    "- Sertanejo raiz\n",
    "- Eletrônica"
   ]
  },
  {
   "cell_type": "markdown",
   "metadata": {},
   "source": [
    "Objetivo: Usar a inteligência artificial na sala de aula, gerando músicas nerds com ritmos que os alunos terão uma esperiência imersiva na sala."
   ]
  }
 ],
 "metadata": {
  "language_info": {
   "name": "python"
  }
 },
 "nbformat": 4,
 "nbformat_minor": 2
}
